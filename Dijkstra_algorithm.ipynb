{
 "cells": [
  {
   "cell_type": "code",
   "execution_count": null,
   "metadata": {},
   "outputs": [],
   "source": [
    "def Dijkstra_shortest_path(graph,initial_node,target_node):\n",
    "\n",
    "    distance = [float('inf')]* len(graph.nodes.keys())\n",
    "    index_dict = {}\n",
    "    \n",
    "    for index in range(len(distance)):\n",
    "        index_dict[list(graph.nodes.keys())[index]] = index\n",
    "\n",
    "    queue = []\n",
    "    queue.append((0,initial_node))\n",
    "    index = index_dict[initial_node]\n",
    "    distance[index] = 0\n",
    "    passed_nodes = 0\n",
    "    while(queue):\n",
    "        queue.sort(reverse=False)\n",
    "        current_weight, current_node = queue.pop(0)\n",
    "        passed_nodes +=1\n",
    "   \n",
    "        if current_node == target_node:\n",
    "                    return passed_nodes-1\n",
    "\n",
    "        for value, weight in graph.nodes[current_node].node_neighbors:\n",
    "            index = index_dict[value]\n",
    "            newWeight = current_weight + int(weight)\n",
    "            if newWeight <= distance[index]:\n",
    "                distance[index] = newWeight\n",
    "                for i,j in queue:\n",
    "                    if value == j and i > newWeight:\n",
    "                        index = queue.index((i,j))\n",
    "                        queue[index] = (newWeight,j)\n",
    "\n",
    "                if (newWeight,value) not in queue:\n",
    "                    queue.append((newWeight,value))"
   ]
  }
 ],
 "metadata": {
  "language_info": {
   "name": "python"
  },
  "orig_nbformat": 4
 },
 "nbformat": 4,
 "nbformat_minor": 2
}

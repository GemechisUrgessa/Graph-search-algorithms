{
 "cells": [
  {
   "cell_type": "code",
   "execution_count": null,
   "metadata": {},
   "outputs": [],
   "source": [
    "def depth_first_algo(graph, initial_node,target_node):\n",
    "    stack = [(initial_node,0)]\n",
    "    visited = set()\n",
    "    passed_nodes = 0\n",
    "    while (stack):\n",
    "        current_node, current_weight = stack.pop()\n",
    "        if current_node not in visited:\n",
    "            visited.add(current_node)\n",
    "            passed_nodes +=1\n",
    "            if current_node == target_node:\n",
    "                return passed_nodes-1\n",
    "            for node, weight in graph.nodes[current_node].node_neighbors:\n",
    "                if node not in visited:\n",
    "                    newWeight = int(weight) + int(current_weight)\n",
    "                    stack.append((node,newWeight))\n",
    "\n",
    "    raise ValueError(\"Target city node not in city node list!\")  "
   ]
  }
 ],
 "metadata": {
  "language_info": {
   "name": "python"
  },
  "orig_nbformat": 4
 },
 "nbformat": 4,
 "nbformat_minor": 2
}

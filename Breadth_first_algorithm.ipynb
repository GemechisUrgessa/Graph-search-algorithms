{
 "cells": [
  {
   "cell_type": "code",
   "execution_count": null,
   "metadata": {},
   "outputs": [],
   "source": [
    "def breadth_first_algo(graph,initial_node,target_node):\n",
    "    queue = [(initial_node,0)]\n",
    "    visited = set()\n",
    "    passed_nodes = 0\n",
    "    while (queue):\n",
    "        current_node, current_weight = queue.pop(0)\n",
    "        if current_node not in visited:\n",
    "            passed_nodes +=1\n",
    "            visited.add(current_node)\n",
    "            if current_node == target_node:\n",
    "                return passed_nodes-1\n",
    "            for node,weight in graph.nodes[current_node].node_neighbors:\n",
    "                if node not in visited:\n",
    "                    newWeight = int(weight) + int(current_weight)\n",
    "                    queue.append((node,newWeight))\n",
    "\n",
    "    raise ValueError(\"Target city node not in city node list!\")"
   ]
  }
 ],
 "metadata": {
  "language_info": {
   "name": "python"
  },
  "orig_nbformat": 4
 },
 "nbformat": 4,
 "nbformat_minor": 2
}
